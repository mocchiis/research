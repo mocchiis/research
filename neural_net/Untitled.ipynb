{
 "cells": [
  {
   "cell_type": "markdown",
   "metadata": {},
   "source": [
    "### 評価関数\n",
    "- 2つのセンサ値をとる"
   ]
  },
  {
   "cell_type": "code",
   "execution_count": 1,
   "metadata": {},
   "outputs": [],
   "source": [
    "import numpy as np\n",
    "import sys\n",
    "\n",
    "class NeuralNetMLP(object):\n",
    "   \n",
    "    \"\"\"入力\n",
    "       n_hidden:隠れユニットの数\n",
    "       l2:正規化パラメータλ(L2が0のときは正規化なし)\n",
    "        epochs:学習回数\n",
    "       eta:学習率\n",
    "       shuffle:循環を避けるための変数(boolでtrueのときトレーニングデータをシャッフル)\n",
    "       minibatch_size:ミニバッチ当たりのトレーニングサンプルの個数\n",
    "       seed:重みとシャッフルを初期化するための乱数シード\n",
    "        \"\"\" \n",
    "\n",
    "    def __init__(self, n_hidden=30,\n",
    "                 l2=0., epochs=100, eta=0.001,\n",
    "                 shuffle=True, minibatch_size=1, seed=None):\n",
    "\n",
    "        self.random = np.random.RandomState(seed)\n",
    "        self.n_hidden = n_hidden\n",
    "        self.l2 = l2\n",
    "        self.epochs = epochs\n",
    "        self.eta = eta\n",
    "        self.shuffle = shuffle\n",
    "        self.minibatch_size = minibatch_size\n",
    "        \n",
    "    ###################################\n",
    "    ######outputでえらぶニューロン#####\n",
    "    ##################################\n",
    "    def _onehot(self, y, n_classes):\n",
    "        \"\"\"ラベルをone-hot表現にエンコード\n",
    "        入力\n",
    "            y:目的変数の値（shape=(n_classes, n_labels)）\n",
    "        出力     \n",
    "        onehot \n",
    "        \"\"\"   \n",
    "        onehot = np.zeros((n_classes, y.shape[0]))\n",
    "        for idx, val in enumerate(y.astype(int)):#int型に変換\n",
    "            onehot[val, idx] = 1.\n",
    "        return onehot.T\n",
    "\n",
    "    def _sigmoid(self, z):\n",
    "        return 1. / (1. + np.exp(-np.clip(z, -250, 250)))\n",
    "\n",
    "    def _forward(self, X):\n",
    "        \"\"\"フォワードプロパゲーションのステップを計算\"\"\"\n",
    "\n",
    "        # step 1: 隠れ層の入力     \n",
    "        z_h = np.dot(X, self.w_h) + self.b_h\n",
    "\n",
    "        # step 2: 隠れ層の活性化関数\n",
    "        a_h = self._sigmoid(z_h)\n",
    "\n",
    "        # step 3: 出力層の総入力\n",
    "        z_out = np.dot(a_h, self.w_out) + self.b_out\n",
    "\n",
    "        # step 4: 出力層の活性化関数\n",
    "        a_out = self._sigmoid(z_out)\n",
    "\n",
    "        return z_h, a_h, z_out, a_out\n",
    "\n",
    "    def _compute_cost(self, y_enc, output):\n",
    "        \"\"\"コスト関数\n",
    "        \n",
    "        パラメータ\n",
    "        ----------\n",
    "        y_enc : one-hot表現にエンコードされたクラスラベル\n",
    "        output : 出力層の活性化関数(フォワードプロパゲーション)\n",
    "\n",
    "       返り値\n",
    "        ---------\n",
    "        cost :正規化されたコスト\n",
    "        \"\"\"\n",
    "        L2_term = (self.l2 *\n",
    "                   (np.sum(self.w_h ** 2.) +\n",
    "                    np.sum(self.w_out ** 2.)))\n",
    "        \n",
    "        ####ロジスティック関数のコスト関数#####\n",
    "        ######対数尤度関数#自然対数を最小化するほうが簡単#######\n",
    "        term1 = -y_enc * (np.log(output))\n",
    "        term2 = (1. - y_enc) * np.log(1. - output)\n",
    "        cost = np.sum(term1 - term2) + L2_term\n",
    "              \n",
    "        return cost\n",
    "    \n",
    "    ########クラスラベル予測###########\n",
    "    def predict(self, X):\n",
    "        \"\"\"\n",
    "      　入力\n",
    "        -----------\n",
    "        X :元の特徴量が設定された入力層\n",
    "        \n",
    "       出力\n",
    "        ----------\n",
    "        y_pred :予測されたクラスラベル\n",
    "        \"\"\"\n",
    "        z_h, a_h, z_out, a_out = self._forward(X)\n",
    "        y_pred = np.argmax(z_out, axis=1)#出力層で一番大きい値をとるものを予測に適応\n",
    "        return y_pred\n",
    "    \n",
    "    #########重みの学習##########\n",
    "    def fit(self, X_train, y_train_enc):\n",
    "        \", X_valid, y_valid):\"\n",
    "        \"\"\"\n",
    "        入力\n",
    "        -----------\n",
    "        X_train : 元の特徴量が設定された入力層\n",
    "        y_train :目的値のクラスラベル\n",
    "        X_valid :トレーニング時の検証に使用するサンプル特徴量\n",
    "        y_valid : トレーニング時の検証に使用するサンプルラベル\n",
    "\n",
    "        出力\n",
    "        ----------\n",
    "        self\n",
    "        \"\"\"\n",
    "        n_output = 4#np.unique(y_train_enc).shape[0]  # クラスラベルの個数が出力の数\n",
    "        n_features = X_train.shape[1]\n",
    "\n",
    "        ########################\n",
    "        ######重みの初期化######\n",
    "        ########################\n",
    "\n",
    "        # 入力層→隠れ層の重み\n",
    "        self.b_h = np.zeros(self.n_hidden)\n",
    "        self.w_h = self.random.normal(loc=0.0, scale=0.1,size=(n_features, self.n_hidden))\n",
    "\n",
    "        # 隠れ層→出力層の重み\n",
    "        self.b_out = np.zeros(n_output)\n",
    "        self.w_out = self.random.normal(loc=0.0, scale=0.1,size=(self.n_hidden, n_output))\n",
    "        \"\"\"\n",
    "        epoch_strlen = len(str(self.epochs))  # 書式設定#表示するもの\n",
    "        self.eval_ = {'cost': [], 'train_acc': [], 'valid_acc': []}\n",
    "        \"\"\"\n",
    "        #y_train_enc = self._onehot(y_train, n_output)#y_train:目的変数の値, n_output:クラスラベルの個数\n",
    "        \n",
    "        # エポック数だけトレーニングを繰り返す\n",
    "        for i in range(self.epochs):\n",
    "\n",
    "            #インデックス\n",
    "            indices = np.arange(X_train.shape[0])\n",
    "\n",
    "            if self.shuffle:\n",
    "                self.random.shuffle(indices)\n",
    "                \n",
    "            #ミニバッチの反復処理(イテレーション)\n",
    "            for start_idx in range(0, indices.shape[0] - self.minibatch_size +1, \n",
    "                                   self.minibatch_size):\n",
    "                #ミニバッチ学習の範囲の移動\n",
    "                batch_idx = indices[start_idx:start_idx + self.minibatch_size]\n",
    "                \n",
    "                ##################################\n",
    "                ### フォワードプロパゲーション###\n",
    "                #################################\n",
    "                z_h, a_h, z_out, a_out = self._forward(X_train[batch_idx])\n",
    "\n",
    "                ##############################\n",
    "                ### バックプロパゲーション ###\n",
    "                #############################\n",
    "                \n",
    "                ####誤差行列(コスト関数の微分)####\n",
    "                # [n_samples, n_classlabels]\n",
    "                sigma_out = a_out - y_train_enc[batch_idx]\n",
    "                \n",
    "                ####シグモイド関数の微分#####\n",
    "                # [n_classlabels, n_hidden]\n",
    "                sigmoid_derivative_h = a_h * (1. - a_h)\n",
    "                \n",
    "                ####誤差行列(コスト関数の入力z微分)#####\n",
    "                # [n_samples, n_classlabels] dot [n_classlabels, n_hidden]\n",
    "                # -> [n_samples, n_hidden]\n",
    "                sigma_h = (np.dot(sigma_out, self.w_out.T) * sigmoid_derivative_h)\n",
    "                \n",
    "                #####偏微分係数(コスト関数の重みw微分)##########\n",
    "                # [n_features, n_samples] dot [n_samples, n_hidden]\n",
    "                # -> [n_features, n_hidden]\n",
    "                grad_w_h = np.dot(X_train[batch_idx].T, sigma_h)\n",
    "                grad_b_h = np.sum(sigma_h, axis=0)\n",
    "\n",
    "                #####偏微分係数(コスト関数の重みw微分)##########\n",
    "                # [n_hidden, n_samples] dot [n_samples, n_classlabels]\n",
    "                # -> [n_hidden, n_classlabels]\n",
    "                grad_w_out = np.dot(a_h.T, sigma_out)\n",
    "                grad_b_out = np.sum(sigma_out, axis=0)\n",
    "\n",
    "                # 正則化\n",
    "                delta_w_h = (grad_w_h + self.l2*self.w_h)\n",
    "                delta_b_h = grad_b_h # バイアスは正則化しない\n",
    "                \n",
    "                #####接続重み修正########勾配に対して反対方向\n",
    "                self.w_h -= self.eta * delta_w_h\n",
    "                #######バイアス修正######\n",
    "                self.b_h -= self.eta * delta_b_h\n",
    "\n",
    "                # 正則化\n",
    "                delta_w_out = (grad_w_out + self.l2*self.w_out)\n",
    "                delta_b_out = grad_b_out  #バイアスは正則化しない\n",
    "                \n",
    "                #####接続重み修正########\n",
    "                self.w_out -= self.eta * delta_w_out\n",
    "                #######バイアス修正######\n",
    "                self.b_out -= self.eta * delta_b_out\n",
    "                \n",
    "            \"\"\"\n",
    "            ##############\n",
    "            #### 評価 ####\n",
    "            ##############\n",
    "            #学習中のそれぞれのエポックごとに評価を行う\n",
    "            #入力1つずつに対して\n",
    "            z_h, a_h, z_out, a_out = self._forward(X_train)\n",
    "            #コスト関数\n",
    "            cost = self._compute_cost(y_enc = y_train_enc, output = a_out)\n",
    "\n",
    "            y_train_pred = self.predict(X_train)#trainingデータの予測\n",
    "            y_valid_pred = self.predict(X_valid)#testデータの予測\n",
    "            \n",
    "            #トレーニングの正解率\n",
    "            train_acc = ((np.sum(y_train == y_train_pred)).astype(np.float) /\n",
    "                         X_train.shape[0])\n",
    "            #検証の正解率\n",
    "            valid_acc = ((np.sum(y_valid == y_valid_pred)).astype(np.float) /\n",
    "                         X_valid.shape[0])\n",
    "\n",
    "            sys.stderr.write('\\r%0*d/%d | Cost: %.2f '\n",
    "                             '| Train/Valid Acc.: %.2f%%/%.2f%% ' %\n",
    "                             (epoch_strlen, i+1, self.epochs, cost,\n",
    "                              train_acc*100, valid_acc*100))\n",
    "            sys.stderr.flush()\n",
    "\n",
    "            self.eval_['cost'].append(cost)\n",
    "            self.eval_['train_acc'].append(train_acc)\n",
    "            self.eval_['valid_acc'].append(valid_acc)\n",
    "            \"\"\"\n",
    "\n",
    "\n",
    "        return self"
   ]
  },
  {
   "cell_type": "code",
   "execution_count": 2,
   "metadata": {
    "scrolled": true
   },
   "outputs": [
    {
     "name": "stdout",
     "output_type": "stream",
     "text": [
      "[0 0 0 3 0 2 1 3 2 0 1 3 2 1 0 2 0 2 0 2 3 0 3 0 0 3 2 1 0 0 0 3 3 3 1 3 3\n",
      " 1 2 0 0 1 1 3 3 1 2 0 3 0 3 1 2 2 2 0 3 0 1 3 2 1 0 2 0 2 0]\n",
      "[[1 0 1 1]\n",
      " [1 0 1 1]\n",
      " [1 0 1 1]\n",
      " [0 0 0 1]\n",
      " [0 1 0 0]\n",
      " [1 1 0 1]\n",
      " [1 0 0 0]\n",
      " [1 1 1 0]\n",
      " [0 0 1 0]\n",
      " [1 0 1 1]\n",
      " [1 0 0 0]\n",
      " [1 1 1 0]\n",
      " [1 1 0 1]\n",
      " [0 1 1 1]\n",
      " [1 0 1 1]\n",
      " [0 0 1 0]\n",
      " [1 0 1 1]\n",
      " [0 0 1 0]\n",
      " [0 1 0 0]\n",
      " [1 1 0 1]\n",
      " [0 0 0 1]\n",
      " [1 0 1 1]\n",
      " [1 1 1 0]\n",
      " [1 0 1 1]\n",
      " [1 0 1 1]\n",
      " [0 0 0 1]\n",
      " [0 0 1 0]\n",
      " [1 0 0 0]\n",
      " [1 0 1 1]\n",
      " [1 0 1 1]\n",
      " [1 0 1 1]\n",
      " [0 0 0 1]\n",
      " [1 1 1 0]\n",
      " [1 1 1 0]\n",
      " [0 1 1 1]\n",
      " [0 0 0 1]\n",
      " [0 0 0 1]\n",
      " [1 0 0 0]\n",
      " [0 0 1 0]\n",
      " [1 0 1 1]\n",
      " [1 0 1 1]\n",
      " [1 0 0 0]\n",
      " [1 0 0 0]\n",
      " [0 0 0 1]\n",
      " [0 0 0 1]\n",
      " [0 1 1 1]\n",
      " [1 1 0 1]\n",
      " [0 1 0 0]\n",
      " [1 1 1 0]\n",
      " [0 1 0 0]\n",
      " [1 1 1 0]\n",
      " [0 1 1 1]\n",
      " [1 1 0 1]\n",
      " [0 0 1 0]\n",
      " [0 0 1 0]\n",
      " [0 1 0 0]\n",
      " [0 0 0 1]\n",
      " [1 0 1 1]\n",
      " [1 0 0 0]\n",
      " [1 1 1 0]\n",
      " [1 1 0 1]\n",
      " [0 1 1 1]\n",
      " [0 1 0 0]\n",
      " [1 1 0 1]\n",
      " [1 0 1 1]\n",
      " [0 0 1 0]\n",
      " [1 0 1 1]]\n"
     ]
    }
   ],
   "source": [
    "import pandas as pd\n",
    "import math\n",
    "\n",
    "######################################################\n",
    "########## 入力値：ランダムウォークの設定 ############\n",
    "######################################################\n",
    "\n",
    "#ランダムウォークのデータ\n",
    "df_sensor = pd.read_csv('2dimention_sensor_data_2.csv')\n",
    "length = len(df_sensor)\n",
    "\n",
    "X_sensor = np.array(df_sensor.loc[:,'front':'left'])\n",
    "#X_sensor = X_sensor.astype(int)\n",
    "\n",
    "action = np.array(np.zeros(length))\n",
    "action = np.array(df_sensor.loc[:,'action'])\n",
    "\n",
    "#各行の最小センサ値の列名\n",
    "minimum_kind = df_sensor.loc[:,'front':'left'].idxmin(axis = 1)\n",
    "#教師の初期化\n",
    "#teacher = np.array(np.zeros((length,4)))\n",
    "teacher = np.zeros((length,4))\n",
    "\n",
    "for i in range(1, length):\n",
    "    \n",
    "    min_fir_before = sorted(X_sensor[i-1])[0]\n",
    "    min_sec_before = sorted(X_sensor[i-1])[1]\n",
    "    #print(min_fir_before)\n",
    "    senor_min_before = math.sqrt(min_fir_before**2 + min_sec_before**2)\n",
    "    \n",
    "    min_fir_now = sorted(X_sensor[i])[0]\n",
    "    min_sec_now = sorted(X_sensor[i])[1]\n",
    "    \n",
    "    senor_min_now = math.sqrt(min_fir_now**2 + min_sec_now**2)\n",
    "    \n",
    "    if action[i] == -1:\n",
    "        action[i] = 0\n",
    "    elif action[i] == 1:\n",
    "        action[i] = 1\n",
    "    elif action[i] == 3:\n",
    "        action[i] = 2\n",
    "    elif action[i] == -3:\n",
    "        action[i] = 3\n",
    "    \n",
    "    #前に動いたとき\n",
    "    if action[i] == 1:\n",
    "        #正解\n",
    "        if senor_min_now - senor_min_before > 0: # and X_sensor[i][minimum_num] >=8:\n",
    "            teacher[i] = (1,0,0,0)\n",
    "        #不正解\n",
    "        else: \n",
    "            teacher[i] = (0,1,1,1)\n",
    "            \n",
    "    #後に動いたとき\n",
    "    if action[i] == 0:\n",
    "        #正解\n",
    "        if senor_min_now - senor_min_before > 0: # and X_sensor[i][minimum_num] >=8:\n",
    "            teacher[i] = (0,1,0,0)\n",
    "        #不正解\n",
    "        else: \n",
    "            teacher[i] = (1,0,1,1)\n",
    "    \n",
    "    #右に進んだとき\n",
    "    elif action[i] == 2:\n",
    "        if senor_min_now - senor_min_before > 0: #and X_sensor[i][minimum_num - 2]>=8:\n",
    "            teacher[i] = (0,0,1,0)\n",
    "        #不正解\n",
    "        else:\n",
    "            teacher[i] = (1,1,0,1)\n",
    "  \n",
    "    #左に進んだとき\n",
    "    elif action[i] == 3:\n",
    "        #正解\n",
    "        if senor_min_now - senor_min_before > 0: #and X_sensor[i][minimum_num + 2] >= 8:\n",
    "            teacher[i] = (0,0,0,1)\n",
    "        #不正解\n",
    "        else: \n",
    "            teacher[i] = (1,1,1,0)\n",
    "\n",
    "X_sensor = np.delete(X_sensor, 0,0)\n",
    "teacher = np.delete(teacher, 0,0)\n",
    "teacher = teacher.astype(int)\n",
    "action = np.delete(action, 0,0)\n",
    "\n",
    "print(action)\n",
    "print(teacher)"
   ]
  },
  {
   "cell_type": "markdown",
   "metadata": {},
   "source": [
    "### ランダムウォークの学習\n",
    "- 学習回数4回"
   ]
  },
  {
   "cell_type": "code",
   "execution_count": 3,
   "metadata": {},
   "outputs": [
    {
     "name": "stdout",
     "output_type": "stream",
     "text": [
      "[0 0 3 1 1 0 3 1 3 3 3 1 3 3 0 2 2 1 1 1 1 2 2 2 2 3 2 2 2 2 2 3 1 2 2 2 3\n",
      " 3 2 2 2 2 2 2 3 1 1 3 1 1 2 2 1 3 3 3 3 3 3 1 1 1 1 3 3 2 2]\n"
     ]
    }
   ],
   "source": [
    "################# インスタンス生成 ######################\n",
    "nn = NeuralNetMLP(n_hidden = 100, #隠れユニットの数\n",
    "                 l2 = 0.01,#正則化のλパラメータ\n",
    "                 epochs = 50, #n_epochs, #トレーニング回数\n",
    "                 eta = 0.0005, #学習率\n",
    "                 minibatch_size = 1, \n",
    "                 shuffle = True, #各エポックでデータをシャッフルするかどうか\n",
    "                 seed = 1)\n",
    "\n",
    "\n",
    "################## 学習 ######################\n",
    "for i in range(1):\n",
    "    \n",
    "    fit = nn.fit(X_train = X_sensor,#センサ値の差\n",
    "          y_train_enc = teacher)#前か後ろか\n",
    "\n",
    "#################### 予測 ####################\n",
    "pre = nn.predict(X_sensor)\n",
    "print(pre)"
   ]
  },
  {
   "cell_type": "markdown",
   "metadata": {},
   "source": [
    "### 逐次学習\n",
    "- 学習回数：sensor_epoch "
   ]
  },
  {
   "cell_type": "code",
   "execution_count": 4,
   "metadata": {
    "scrolled": true
   },
   "outputs": [
    {
     "name": "stdout",
     "output_type": "stream",
     "text": [
      "1\n",
      "sensor_list : [[ 98.78  28.93 108.09  33.78]] /next_sensor_list: [[ 21.05 105.9  106.83  34.12]]\n",
      "[3]\n",
      "t_teacher: [0.5 0.5 0.5 0. ]\n",
      "2\n",
      "sensor_list : [[ 21.07 105.5  106.88  34.07]] /next_sensor_list: [[ 31.64  94.83 106.79  35.31]]\n",
      "[0]\n",
      "t_teacher: [0 1 0 0]\n",
      "3\n",
      "sensor_list : [[ 31.66  95.66 106.81  35.31]] /next_sensor_list: [[ 22.03 104.91 105.29  35.31]]\n",
      "[1]\n",
      "t_teacher: [0.  0.5 0.5 0.5]\n",
      "4\n",
      "sensor_list : [[ 21.98 104.91 105.69  34.9 ]] /next_sensor_list: [[ 32.1   94.78 105.81  35.88]]\n",
      "[0]\n",
      "t_teacher: [0 1 0 0]\n",
      "5\n",
      "sensor_list : [[ 32.1   94.47 105.36  35.86]] /next_sensor_list: [[ 22.09 105.19 107.05  35.16]]\n",
      "[1]\n",
      "t_teacher: [0.  0.5 0.5 0.5]\n",
      "6\n",
      "sensor_list : [[ 22.07 104.78 106.6   35.16]] /next_sensor_list: [[ 86.21  40.66 108.9   27.43]]\n",
      "[2]\n",
      "t_teacher: [0 0 1 0]\n",
      "7\n",
      "sensor_list : [[ 86.21  41.17 108.78  27.33]] /next_sensor_list: [[ 96.    31.38 112.78  28.57]]\n",
      "[0]\n",
      "t_teacher: [0.5 0.  0.5 0.5]\n",
      "8\n",
      "sensor_list : [[ 96.    31.38 112.79  28.57]] /next_sensor_list: [[93.21 33.98 42.83 98.1 ]]\n",
      "[2]\n",
      "t_teacher: [0 0 1 0]\n",
      "9\n",
      "sensor_list : [[ 93.21  33.88  42.43 100.31]] /next_sensor_list: [[ 26.69 105.24  42.38  99.64]]\n",
      "[2]\n",
      "t_teacher: [0.5 0.5 0.  0.5]\n",
      "10\n",
      "sensor_list : [[ 26.78 105.22  42.28  96.17]] /next_sensor_list: [[36.26 93.21 45.41 95.45]]\n",
      "[0]\n",
      "t_teacher: [0 1 0 0]\n",
      "11\n",
      "sensor_list : [[36.26 93.31 45.41 93.4 ]] /next_sensor_list: [[81.26 51.36 40.31 74.31]]\n",
      "[3]\n",
      "t_teacher: [0 0 0 1]\n",
      "12\n"
     ]
    },
    {
     "ename": "ValueError",
     "evalue": "could not convert string to float: ",
     "output_type": "error",
     "traceback": [
      "\u001b[1;31m---------------------------------------------------------------------------\u001b[0m",
      "\u001b[1;31mValueError\u001b[0m                                Traceback (most recent call last)",
      "\u001b[1;32m<ipython-input-4-6520016bd4b4>\u001b[0m in \u001b[0;36m<module>\u001b[1;34m\u001b[0m\n\u001b[0;32m     70\u001b[0m         \u001b[0mdata\u001b[0m \u001b[1;33m=\u001b[0m \u001b[0mnext_ser_sensor\u001b[0m\u001b[1;33m.\u001b[0m\u001b[0mreadline\u001b[0m\u001b[1;33m(\u001b[0m\u001b[1;33m)\u001b[0m\u001b[1;33m.\u001b[0m\u001b[0mrstrip\u001b[0m\u001b[1;33m(\u001b[0m\u001b[1;33m)\u001b[0m\u001b[1;33m\u001b[0m\u001b[1;33m\u001b[0m\u001b[0m\n\u001b[0;32m     71\u001b[0m         \u001b[0mdata\u001b[0m \u001b[1;33m=\u001b[0m \u001b[0mdata\u001b[0m\u001b[1;33m.\u001b[0m\u001b[0mdecode\u001b[0m\u001b[1;33m(\u001b[0m\u001b[1;33m)\u001b[0m\u001b[1;33m\u001b[0m\u001b[1;33m\u001b[0m\u001b[0m\n\u001b[1;32m---> 72\u001b[1;33m         \u001b[0mdata\u001b[0m \u001b[1;33m=\u001b[0m \u001b[0mfloat\u001b[0m\u001b[1;33m(\u001b[0m\u001b[0mdata\u001b[0m\u001b[1;33m)\u001b[0m\u001b[1;33m\u001b[0m\u001b[1;33m\u001b[0m\u001b[0m\n\u001b[0m\u001b[0;32m     73\u001b[0m         \u001b[0mnext_sensor_list\u001b[0m\u001b[1;33m[\u001b[0m\u001b[1;36m0\u001b[0m\u001b[1;33m,\u001b[0m\u001b[0mi\u001b[0m\u001b[1;33m]\u001b[0m \u001b[1;33m=\u001b[0m \u001b[0mdata\u001b[0m\u001b[1;33m\u001b[0m\u001b[1;33m\u001b[0m\u001b[0m\n\u001b[0;32m     74\u001b[0m \u001b[1;33m\u001b[0m\u001b[0m\n",
      "\u001b[1;31mValueError\u001b[0m: could not convert string to float: "
     ]
    }
   ],
   "source": [
    "import numpy as np\n",
    "import serial\n",
    "import time\n",
    "l = 1\n",
    "sensor_list_append = np.array([])\n",
    "teacher_append =  np.array([])\n",
    "action_append =  np.array([])\n",
    "sensor_epoch  = 20\n",
    "count = 0\n",
    "for l in range(sensor_epoch):\n",
    "    count += 1\n",
    "    print(count)\n",
    "    ################### センサー値取得 ####################\n",
    "    # COMポート(Arduino接続)\n",
    "    ser_sensor = serial.Serial('COM4',9600)#センサー\n",
    "    ser_sensor.flush()\n",
    "    ser_sensor.write(b\"r\")#センサ読み込む\n",
    "    time.sleep(4)\n",
    "    input_num = 4\n",
    "    sensor = np.zeros((1,input_num))\n",
    "    for i in range(input_num):\n",
    "\n",
    "        #シリアル通信で受け取った情報（文字列）を改行コードがくるまで代入\n",
    "        data = ser_sensor.readline().rstrip() # readline:行終端まで読み込む  rstrip:行終端コード削除　→　# \\nまで読み込む(\\nは削除\n",
    "        data = data.decode() #対話型だとこれが必要。その情報をデコードする。\n",
    "        data = float(data)\n",
    "        sensor[0,i] = data\n",
    "\n",
    "    sensor_list = np.array(sensor)#.astype(int)\n",
    "    ser_sensor.close()\n",
    "\n",
    "    ################### 予測 #######################\n",
    "\n",
    "    pre = nn.predict(sensor_list)\n",
    "\n",
    "    #################### 移動 #######################\n",
    "    ser_motor = serial.Serial(\"COM3\",9600)\n",
    "    ser_motor.flush()\n",
    "    \n",
    "    #予測した値をロボットに送る\n",
    "    if pre == 1: #foward\n",
    "        ser_motor.write(b\"1\")\n",
    "    elif pre == 0: #back\n",
    "        ser_motor.write(b\"0\")#バイト型で送信\n",
    "    elif pre == 2: #right\n",
    "        ser_motor.write(b\"2\")#バイト型で送信\n",
    "    elif pre == 3: #left\n",
    "        ser_motor.write(b\"3\")#バイト型で送信\n",
    "        \n",
    "    data = ser_motor.readline().rstrip()\n",
    "    data = data.decode()\n",
    "    \n",
    "    ser_motor.close()\n",
    "    \n",
    "    ###############################################\n",
    "    ################## 逐次学習 ###################\n",
    "    ###############################################\n",
    "\n",
    "    ############## センサー値取得 #################\n",
    "    next_ser_sensor = serial.Serial('COM4',9600)\n",
    "    next_ser_sensor.flush()\n",
    "    next_ser_sensor.write(b\"r\")#センサ読み込む\n",
    "    \n",
    "    # 初期化\n",
    "    next_sensor_list = np.zeros((1,input_num))\n",
    "    next_sensor_list_2 = np.zeros((1,input_num))\n",
    "    \n",
    "    for i in range(input_num):\n",
    "\n",
    "        data = next_ser_sensor.readline().rstrip()\n",
    "        data = data.decode()\n",
    "        data = float(data)\n",
    "        next_sensor_list[0,i] = data\n",
    "    \n",
    "    next_sensor_list = np.array(next_sensor_list)\n",
    "    \n",
    "    #################### ２つの最小センサの二乗平均 ###########################\n",
    "    min_fir_before = np.sort(sensor_list[0])[0]\n",
    "    min_sec_before = np.sort(sensor_list[0])[1]\n",
    "\n",
    "    senor_min_before = math.sqrt(min_fir_before**2 + min_sec_before**2)\n",
    "    \n",
    "    min_fir_now = np.sort(next_sensor_list[0])[0]\n",
    "    min_sec_now = np.sort(next_sensor_list[0])[1]\n",
    "\n",
    "    senor_min_now = math.sqrt(min_fir_now**2 + min_sec_now**2)\n",
    "    \n",
    "    #教師の初期化\n",
    "    t_teacher = np.array(np.zeros(4))\n",
    "   \n",
    "    #前に動いたとき\n",
    "    if pre == 1:\n",
    "        #正解\n",
    "        if senor_min_now - senor_min_before > 0: # and X_sensor[i][minimum_num] >=8:\n",
    "            t_teacher = (1,0,0,0)\n",
    "        #不正解\n",
    "        else: \n",
    "            t_teacher = (0,0.5,0.5,0.5)\n",
    "            \n",
    "    #後に動いたとき\n",
    "    if pre == 0:\n",
    "        #正解\n",
    "        if senor_min_now - senor_min_before > 0: # and X_sensor[i][minimum_num] >=8:\n",
    "            t_teacher = (0,1,0,0)\n",
    "        #不正解\n",
    "        else: \n",
    "            t_teacher= (0.5,0,0.5,0.5)\n",
    "    \n",
    "    #右に進んだとき\n",
    "    elif pre == 2:\n",
    "        if senor_min_now - senor_min_before > 0: #and X_sensor[i][minimum_num - 2]>=8:\n",
    "            t_teacher = (0,0,1,0)\n",
    "        #不正解\n",
    "        else:\n",
    "            t_teacher = (0.5,0.5,0,0.5)\n",
    "  \n",
    "    #左に進んだとき\n",
    "    elif pre == 3:\n",
    "        #正解\n",
    "        if senor_min_now - senor_min_before > 0: #and X_sensor[i][minimum_num + 2] >= 8:\n",
    "            t_teacher = (0,0,0,1)\n",
    "        #不正解\n",
    "        else: \n",
    "            t_teacher = (0.5,0.5,0.5,0)\n",
    "\n",
    "    next_ser_sensor.close()\n",
    "    \n",
    "    t_teacher = np.array(t_teacher)\n",
    "    t_teacher = t_teacher#.astype(int)\n",
    "    \n",
    "    #sensor_listをl次元の配列に順次追加していく\n",
    "    sensor_list_append = np.append(sensor_list_append, sensor_list).reshape(l+1, input_num)\n",
    "    \n",
    "    #点数をl次元の配列に順次追加していく\n",
    "    teacher_append = np.append(teacher_append, t_teacher).reshape(l+1, input_num) #, axis= 1)\n",
    "    \n",
    "    # SOMで可視化するactionを記録\n",
    "    action_append = np.append(action_append, pre)#.reshape(l+1, 1)\n",
    "    \n",
    "    X_train = np.append(X_sensor, sensor_list_append, axis= 0)\n",
    "    y_train = np.append(teacher, teacher_append, axis= 0)\n",
    "    action = np.append(action, action_append)#, axis = 0)\n",
    "    \n",
    "    \n",
    "    #学習\n",
    "    #fit = nn.fit(X_train  ,y_train)\n",
    "    fit = nn.fit(sensor_list ,t_teacher)\n",
    "    \n",
    "    print(\"sensor_list : \"+str(sensor_list) + \" /next_sensor_list: \"+str(next_sensor_list))\n",
    "    print(pre)\n",
    "    print(\"t_teacher: \"+ str(t_teacher))\n",
    "    #print(\"next_sensor_list: \"+str(next_sensor_list))\n"
   ]
  },
  {
   "cell_type": "code",
   "execution_count": 5,
   "metadata": {
    "scrolled": false
   },
   "outputs": [
    {
     "name": "stdout",
     "output_type": "stream",
     "text": [
      "action_append : [3. 0. 1. 0. 1. 2. 0. 2. 2. 0. 3.]\n"
     ]
    }
   ],
   "source": [
    "#0 0 0 3 0 2 1 3 2 0 1 3 2 1 0 2 0 2 0 2 3 0 3 0 0 3 2 1 0 0 0 3 3 3 1 3 3\n",
    "# 1 2 0 0 1 1 3 3 1 2 0 3 0 3 1 2 2 2 0 3 0 1 3 2 1 0 2 0 2 0\n",
    "print(\"action_append : \"+str(action_append))"
   ]
  },
  {
   "cell_type": "code",
   "execution_count": 6,
   "metadata": {
    "scrolled": true
   },
   "outputs": [
    {
     "name": "stdout",
     "output_type": "stream",
     "text": [
      "action: [0. 0. 0. 3. 0. 2. 1. 3. 2. 0. 1. 3. 2. 1. 0. 2. 0. 2. 0. 2. 3. 0. 3. 0.\n",
      " 0. 3. 2. 1. 0. 0. 0. 3. 3. 3. 1. 3. 3. 1. 2. 0. 0. 1. 1. 3. 3. 1. 2. 0.\n",
      " 3. 0. 3. 1. 2. 2. 2. 0. 3. 0. 1. 3. 2. 1. 0. 2. 0. 2. 0. 3. 3. 0. 3. 0.\n",
      " 1. 3. 0. 1. 0. 3. 0. 1. 0. 1. 3. 0. 1. 0. 1. 2. 3. 0. 1. 0. 1. 2. 0. 3.\n",
      " 0. 1. 0. 1. 2. 0. 2. 3. 0. 1. 0. 1. 2. 0. 2. 2. 3. 0. 1. 0. 1. 2. 0. 2.\n",
      " 2. 0. 3. 0. 1. 0. 1. 2. 0. 2. 2. 0. 3.]\n"
     ]
    }
   ],
   "source": [
    "print(\"action: \"+str(action))"
   ]
  },
  {
   "cell_type": "code",
   "execution_count": 7,
   "metadata": {
    "scrolled": true
   },
   "outputs": [
    {
     "name": "stdout",
     "output_type": "stream",
     "text": [
      "0.0\n",
      "0.0\n",
      "0.0\n",
      "3.0\n",
      "0.0\n",
      "2.0\n",
      "1.0\n",
      "3.0\n",
      "2.0\n",
      "0.0\n",
      "1.0\n",
      "3.0\n",
      "2.0\n",
      "1.0\n",
      "0.0\n",
      "2.0\n",
      "0.0\n",
      "2.0\n",
      "0.0\n",
      "2.0\n",
      "3.0\n",
      "0.0\n",
      "3.0\n",
      "0.0\n",
      "0.0\n",
      "3.0\n",
      "2.0\n",
      "1.0\n",
      "0.0\n",
      "0.0\n",
      "0.0\n",
      "3.0\n",
      "3.0\n",
      "3.0\n",
      "1.0\n",
      "3.0\n",
      "3.0\n",
      "1.0\n",
      "2.0\n",
      "0.0\n",
      "0.0\n",
      "1.0\n",
      "1.0\n",
      "3.0\n",
      "3.0\n",
      "1.0\n",
      "2.0\n",
      "0.0\n",
      "3.0\n",
      "0.0\n",
      "3.0\n",
      "1.0\n",
      "2.0\n",
      "2.0\n",
      "2.0\n",
      "0.0\n",
      "3.0\n",
      "0.0\n",
      "1.0\n",
      "3.0\n",
      "2.0\n",
      "1.0\n",
      "0.0\n",
      "2.0\n",
      "0.0\n",
      "2.0\n",
      "0.0\n",
      "3.0\n",
      "3.0\n",
      "0.0\n",
      "3.0\n",
      "0.0\n",
      "1.0\n",
      "3.0\n",
      "0.0\n",
      "1.0\n",
      "0.0\n",
      "3.0\n"
     ]
    }
   ],
   "source": [
    "for i in range(length -1+count -1):\n",
    "    print(action[i])"
   ]
  },
  {
   "cell_type": "code",
   "execution_count": 8,
   "metadata": {},
   "outputs": [],
   "source": [
    "import os\n",
    "from datetime import datetime\n",
    "\n",
    "new_dir_path = 'data/'+ datetime.now().strftime(\"%Y_%m_%d_%H_%M\")\n",
    "os.makedirs(new_dir_path, exist_ok=True)"
   ]
  },
  {
   "cell_type": "code",
   "execution_count": 9,
   "metadata": {},
   "outputs": [],
   "source": [
    "from datetime import datetime\n",
    "\n",
    "name = '2D_learning_data'+'('+ datetime.now().strftime(\"%Y_%m_%d_%H_%M\")+')'+'.csv'"
   ]
  },
  {
   "cell_type": "code",
   "execution_count": 10,
   "metadata": {},
   "outputs": [],
   "source": [
    "import csv\n",
    "\n",
    "#y_train = np.argmax(y_train, axis=1)\n",
    "#teacher_append = np.argmax(teacher_append, axis=1)\n",
    "\n",
    "#sensorとteacherを記録するためのcsvファイルを開く\n",
    "with open(os.path.join(new_dir_path, name), 'w') as f:\n",
    "    writer = csv.writer(f)\n",
    "    writer.writerow(['front', 'behind','right','left','action'])\n",
    "\n",
    "#print(y_train)\n",
    "#ランダムウォークと逐次のデータ記録\n",
    "for l in range(count -1  ):# length -1+count -1 \n",
    "    \n",
    "    #csvファイルにBMUとそのクラスを追記\n",
    "    with open(os.path.join(new_dir_path, name), 'a') as f: \n",
    "        writer = csv.writer(f)\n",
    "        ####禁止####writer.writerow([X_train[l, 0],X_train[l, 1],X_train[l, 2], X_train[l, 3], action[l]])\n",
    "        writer.writerow([ sensor_list_append[l, 0], sensor_list_append[l, 1],sensor_list_append[l, 2],\n",
    "                            sensor_list_append[l, 3], action_append[l]])"
   ]
  },
  {
   "cell_type": "markdown",
   "metadata": {},
   "source": [
    "### SOM"
   ]
  },
  {
   "cell_type": "code",
   "execution_count": 19,
   "metadata": {
    "scrolled": true
   },
   "outputs": [
    {
     "data": {
      "image/png": "[encoded data removed]",
      "text/plain": [
       "<Figure size 432x288 with 1 Axes>"
      ]
     },
     "metadata": {
      "needs_background": "light"
     },
     "output_type": "display_data"
    }
   ],
   "source": [
    "%matplotlib inline \n",
    "import numpy as np\n",
    "import matplotlib.pyplot as plt\n",
    "import matplotlib\n",
    "import csv\n",
    "\n",
    "from datetime import datetime\n",
    "\n",
    "df = pd.read_csv(os.path.join(new_dir_path, name))\n",
    "N = 20#linear size of 2D map\n",
    "n_teacher = len(df) #教師データの数(学習回数)#行数\n",
    "np.random.seed(1000)#シード (種) を指定することで、発生する乱数をあらかじめ固定\n",
    "dimension = 4#ベクトルの次元\n",
    "i = 0\n",
    "def main():\n",
    "    #初期ノード\n",
    "    # N x N ×dimension の配列の乱数\n",
    "    nodes = np.random.rand(N, N, dimension)#0.0~1.0の値で一様分布\n",
    "\n",
    "    for x in range (N):\n",
    "        for y in range(N):\n",
    "            for z in range(dimension):\n",
    "                M = df.iloc[:,z].max()\n",
    "                m = df.iloc[:,z].min()\n",
    "                #参照ベクトルを -0.5~0.5(max-min) の一様乱数とする\n",
    "                nodes[x, y, z] = 1.0*(M - m) * nodes[x, y, z] + m\n",
    "    \n",
    "    \n",
    "    #BMUとクラスを記録するためのcsvファイルを開く\n",
    "    with open('bmu.csv', 'w') as f:\n",
    "        writer = csv.writer(f)\n",
    "        writer.writerow(['index','bmu','classnum'])\n",
    "        \n",
    "    ax = plt.subplot()\n",
    "    ax.set_xticks([0,N/2, N])\n",
    "    ax.set_yticks([0,N/2, N])\n",
    "    for df3 in range(2):\n",
    "        df3 = pd.read_csv(os.path.join(new_dir_path, name))\n",
    "        \n",
    "        for i in range(n_teacher):\n",
    "            #教師信号\n",
    "            teachers = np.array(df.loc[i,'front':'left'].values) #X \n",
    "            train(nodes, teachers)\n",
    "            bmu = best_matching_unit(nodes, teachers)\n",
    "            y = np.array(df.loc[:, ['action']].values)\n",
    "            \n",
    "            #csvファイルにBMUとそのクラスを追記\n",
    "            with open('bmu.csv', 'a') as f: \n",
    "                writer = csv.writer(f)\n",
    "                writer.writerow([i,bmu,y[i]])\n",
    "            \n",
    "            df2 = pd.read_csv('bmu.csv')\n",
    "            if y[i] != df2['classnum'].any:\n",
    "                if y[i]==[1.]:#前\n",
    "                    col='red'\n",
    "                    mark = 'o'\n",
    "                    l = 'front'\n",
    "\n",
    "                elif y[i]==[0.]:#後ろ\n",
    "                    col='blue'\n",
    "                    mark = '^'\n",
    "                    l = 'back'\n",
    "                    \n",
    "                elif y[i]==[2.]:#右\n",
    "                    col='orange'\n",
    "                    mark = '*'\n",
    "                    l = 'right'\n",
    "                    \n",
    "                elif y[i]==[3.]:#左\n",
    "                    col='green'\n",
    "                    mark = 's'\n",
    "                    l = 'left'\n",
    "                    \n",
    "                else :\n",
    "                    col='black'\n",
    "                    mark = 'x'\n",
    "                    l = 'back'\n",
    "    \n",
    "            scale = 3 * df2['bmu'].value_counts() #+ 5\n",
    "            plot_som = ax.scatter(bmu[0],bmu[1],color = col, marker=mark, s=scale, alpha = 1.0)\n",
    "            \n",
    "            #ax.scatter(bmu[0],bmu[1],color = col, marker=mark, s=scale)\n",
    "            \n",
    "\n",
    "#    for i in range(n_teacher):\n",
    "        \n",
    "#        if y[i] == df2['classnum'].any:\n",
    "#            col = 'black'\n",
    "#            mark = 'x'\n",
    "#            scale = 10\n",
    "#            ax.scatter(bmu[0],bmu[1],color = col, marker=mark, s=scale)\n",
    "            \n",
    "    plt.xlim(0-1,N+1)\n",
    "    plt.ylim(0-1,N+1)\n",
    "    #plt.legend()\n",
    "    plt.savefig(os.path.join(new_dir_path, f'Random'+str(length)+'Sequent'+str(sensor_epoch)+'('+datetime.now().strftime(\"%Y_%m_%d_%H_%M\")+')'+'.png'), dpi = 400, bbox_inches = 'tight')\n",
    "    plt.show()\n",
    "    \n",
    "    \n",
    "#学習   \n",
    "def train(nodes, teachers):\n",
    "    \n",
    "    bmu = best_matching_unit(nodes, teachers)#BMU:データに対し最も似ているベクトルを持つユニットあとで定義\n",
    "\n",
    "    for x in range(N):\n",
    "        for y in range(N):\n",
    "            c = np.array([x,y])\n",
    "            d = np.linalg.norm(c - bmu)#ユニットの位置とBMUとの距離\n",
    "            L = learning_ratio(i)#学習時間を決定するパラメータ#iはe^(-t/λ)\n",
    "            S = learning_radius(i, d)#更新するユニットがどの程度BMUの近傍にいるのかを表現\n",
    "            for z in range(dimension):\n",
    "                nodes[x, y, z] += L * S * (teachers[z] - nodes[x, y, z])#zはがくの長さなど\n",
    "\n",
    "                \n",
    "def best_matching_unit(nodes, teacher):\n",
    "    norms = np.zeros((N,N))# N×Nの２次元配列を生成\n",
    "    for x in range (N):\n",
    "        for y in range(N):\n",
    "            for z in range(dimension):\n",
    "                norms[x, y] += (nodes[x,y,z] - teacher[z])**2\n",
    "    \n",
    "    bmu_1 = np.argmin(norms)#１次元配列で考えたとき何番目かを返す\n",
    "    bmu = np.unravel_index(bmu_1,(N,N))#argminと組み合わせることで,もとの行列の何行何列目に最小値があるのかわかる\n",
    "\n",
    "    return bmu \n",
    "\n",
    "def neighbourhood(t):\n",
    "    halflife = float(n_teacher/4)#時定数\n",
    "    initial = float(N/4)\n",
    "    return initial*np.exp(-t/halflife)\n",
    "\n",
    "def learning_ratio(t):\n",
    "    halflife=float(n_teacher/4)#時定数\n",
    "    initial=0.1#Lの初期値\n",
    "    return initial*np.exp(-t/halflife)\n",
    "\n",
    "def learning_radius(t, d):\n",
    "    s=neighbourhood(t)\n",
    "    return np.exp(-d**2/(2*s**2))\n",
    "\n",
    "main()"
   ]
  },
  {
   "cell_type": "code",
   "execution_count": 18,
   "metadata": {},
   "outputs": [
    {
     "data": {
      "image/png": "[encoded data removed]",
      "text/plain": [
       "<Figure size 432x288 with 1 Axes>"
      ]
     },
     "metadata": {
      "needs_background": "light"
     },
     "output_type": "display_data"
    },
    {
     "data": {
      "image/png": "[encoded data removed]",
      "text/plain": [
       "<Figure size 432x288 with 1 Axes>"
      ]
     },
     "metadata": {
      "needs_background": "light"
     },
     "output_type": "display_data"
    },
    {
     "data": {
      "image/png": "[encoded data removed]",
      "text/plain": [
       "<Figure size 432x288 with 1 Axes>"
      ]
     },
     "metadata": {
      "needs_background": "light"
     },
     "output_type": "display_data"
    },
    {
     "data": {
      "image/png": "[encoded data removed]",
      "text/plain": [
       "<Figure size 432x288 with 1 Axes>"
      ]
     },
     "metadata": {
      "needs_background": "light"
     },
     "output_type": "display_data"
    },
    {
     "data": {
      "image/png": "[encoded data removed]",
      "text/plain": [
       "<Figure size 432x288 with 1 Axes>"
      ]
     },
     "metadata": {
      "needs_background": "light"
     },
     "output_type": "display_data"
    },
    {
     "data": {
      "image/png": "[encoded data removed]",
      "text/plain": [
       "<Figure size 432x288 with 1 Axes>"
      ]
     },
     "metadata": {
      "needs_background": "light"
     },
     "output_type": "display_data"
    },
    {
     "data": {
      "image/png": "[encoded data removed]",
      "text/plain": [
       "<Figure size 432x288 with 1 Axes>"
      ]
     },
     "metadata": {
      "needs_background": "light"
     },
     "output_type": "display_data"
    },
    {
     "data": {
      "image/png": "[encoded data removed]",
      "text/plain": [
       "<Figure size 432x288 with 1 Axes>"
      ]
     },
     "metadata": {
      "needs_background": "light"
     },
     "output_type": "display_data"
    },
    {
     "data": {
      "image/png": "[encoded data removed]",
      "text/plain": [
       "<Figure size 432x288 with 1 Axes>"
      ]
     },
     "metadata": {
      "needs_background": "light"
     },
     "output_type": "display_data"
    },
    {
     "data": {
      "image/png": "[encoded data removed]",
      "text/plain": [
       "<Figure size 432x288 with 1 Axes>"
      ]
     },
     "metadata": {
      "needs_background": "light"
     },
     "output_type": "display_data"
    },
    {
     "data": {
      "image/png": "[encoded data removed]",
      "text/plain": [
       "<Figure size 432x288 with 1 Axes>"
      ]
     },
     "metadata": {
      "needs_background": "light"
     },
     "output_type": "display_data"
    },
    {
     "data": {
      "image/png": "[encoded data removed]",
      "text/plain": [
       "<Figure size 432x288 with 1 Axes>"
      ]
     },
     "metadata": {
      "needs_background": "light"
     },
     "output_type": "display_data"
    },
    {
     "data": {
      "image/png": "[encoded data removed]",
      "text/plain": [
       "<Figure size 432x288 with 1 Axes>"
      ]
     },
     "metadata": {
      "needs_background": "light"
     },
     "output_type": "display_data"
    },
    {
     "data": {
      "image/png": "[encoded data removed]",
      "text/plain": [
       "<Figure size 432x288 with 1 Axes>"
      ]
     },
     "metadata": {
      "needs_background": "light"
     },
     "output_type": "display_data"
    },
    {
     "data": {
      "image/png": "[encoded data removed]",
      "text/plain": [
       "<Figure size 432x288 with 1 Axes>"
      ]
     },
     "metadata": {
      "needs_background": "light"
     },
     "output_type": "display_data"
    },
    {
     "data": {
      "image/png": "[encoded data removed]",
      "text/plain": [
       "<Figure size 432x288 with 1 Axes>"
      ]
     },
     "metadata": {
      "needs_background": "light"
     },
     "output_type": "display_data"
    },
    {
     "data": {
      "image/png": "[encoded data removed]",
      "text/plain": [
       "<Figure size 432x288 with 1 Axes>"
      ]
     },
     "metadata": {
      "needs_background": "light"
     },
     "output_type": "display_data"
    },
    {
     "data": {
      "image/png": "[encoded data removed]",
      "text/plain": [
       "<Figure size 432x288 with 1 Axes>"
      ]
     },
     "metadata": {
      "needs_background": "light"
     },
     "output_type": "display_data"
    },
    {
     "data": {
      "image/png": "[encoded data removed]",
      "text/plain": [
       "<Figure size 432x288 with 1 Axes>"
      ]
     },
     "metadata": {
      "needs_background": "light"
     },
     "output_type": "display_data"
    },
    {
     "data": {
      "image/png": "[encoded data removed]",
      "text/plain": [
       "<Figure size 432x288 with 1 Axes>"
      ]
     },
     "metadata": {
      "needs_background": "light"
     },
     "output_type": "display_data"
    },
    {
     "data": {
      "image/png": "[encoded data removed]",
      "text/plain": [
       "<Figure size 432x288 with 1 Axes>"
      ]
     },
     "metadata": {
      "needs_background": "light"
     },
     "output_type": "display_data"
    }
   ],
   "source": [
    "%matplotlib inline \n",
    "import numpy as np\n",
    "import matplotlib.pyplot as plt\n",
    "import matplotlib\n",
    "import csv\n",
    "\n",
    "from datetime import datetime\n",
    "\n",
    "df = pd.read_csv(os.path.join(new_dir_path, name))\n",
    "N = 20#linear size of 2D map\n",
    "n_teacher = len(df) #教師データの数(学習回数)#行数\n",
    "np.random.seed(1000)#シード (種) を指定することで、発生する乱数をあらかじめ固定\n",
    "dimension = 4#ベクトルの次元\n",
    "i = 0\n",
    "def main():\n",
    "    #初期ノード\n",
    "    # N x N ×dimension の配列の乱数\n",
    "    nodes = np.random.rand(N, N, dimension)#0.0~1.0の値で一様分布\n",
    "\n",
    "    for x in range (N):\n",
    "        for y in range(N):\n",
    "            for z in range(dimension):\n",
    "                M = df.iloc[:,z].max()\n",
    "                m = df.iloc[:,z].min()\n",
    "                #参照ベクトルを -0.5~0.5(max-min) の一様乱数とする\n",
    "                nodes[x, y, z] = 0.5*(M - m) * nodes[x, y, z] + m\n",
    "    \n",
    "    \n",
    "    #BMUとクラスを記録するためのcsvファイルを開く\n",
    "    with open('bmu.csv', 'w') as f:\n",
    "        writer = csv.writer(f)\n",
    "        writer.writerow(['index','bmu','classnum'])\n",
    "        \n",
    "    ax = plt.subplot()\n",
    "    ax.set_xticks([0,N/2, N])\n",
    "    ax.set_yticks([0,N/2, N])\n",
    "    for df3 in range(2):\n",
    "        df3 = pd.read_csv(os.path.join(new_dir_path, name))\n",
    "        \n",
    "        for i in range(n_teacher):\n",
    "            #教師信号\n",
    "            teachers = np.array(df.loc[i,'front':'left'].values) #X \n",
    "            train(nodes, teachers)\n",
    "            bmu = best_matching_unit(nodes, teachers)\n",
    "            y = np.array(df.loc[:, ['action']].values)\n",
    "            \n",
    "            #csvファイルにBMUとそのクラスを追記\n",
    "            with open('bmu.csv', 'a') as f: \n",
    "                writer = csv.writer(f)\n",
    "                writer.writerow([i,bmu,y[i]])\n",
    "            \n",
    "            df2 = pd.read_csv('bmu.csv')\n",
    "            if y[i] != df2['classnum'].any:\n",
    "                if y[i]==[1.]:#前\n",
    "                    col='red'\n",
    "                    mark = 'o'\n",
    "                    l = 'front'\n",
    "\n",
    "                elif y[i]==[0.]:#後ろ\n",
    "                    col='blue'\n",
    "                    mark = '^'\n",
    "                    l = 'back'\n",
    "                    \n",
    "                elif y[i]==[2.]:#右\n",
    "                    col='orange'\n",
    "                    mark = '*'\n",
    "                    l = 'right'\n",
    "                    \n",
    "                elif y[i]==[3.]:#左\n",
    "                    col='green'\n",
    "                    mark = 's'\n",
    "                    l = 'left'\n",
    "                    \n",
    "                else :\n",
    "                    col='black'\n",
    "                    mark = 'x'\n",
    "                    l = 'back'\n",
    "    \n",
    "            scale = 3 * df2['bmu'].value_counts() #+ 5\n",
    "            plot_som = ax.scatter(bmu[0],bmu[1],color = col, marker=mark, s=scale, alpha = 1.0)\n",
    "            \n",
    "            #ax.scatter(bmu[0],bmu[1],color = col, marker=mark, s=scale)\n",
    "            \n",
    "            if i%(n_teacher/3):\n",
    "                for i in range(n_teacher):\n",
    "                    #教師信号\n",
    "                    teachers = np.array(df.loc[i,'front':'left'].values) #X \n",
    "                    train(nodes, teachers)\n",
    "                    bmu = best_matching_unit(nodes, teachers)\n",
    "                    y = np.array(df.loc[:, ['action']].values)\n",
    "\n",
    "                    #csvファイルにBMUとそのクラスを追記\n",
    "                    with open('bmu.csv', 'a') as f: \n",
    "                        writer = csv.writer(f)\n",
    "                        writer.writerow([i,bmu,y[i]])\n",
    "\n",
    "                    df2 = pd.read_csv('bmu.csv')\n",
    "                    if y[i] != df2['classnum'].any:\n",
    "                        if y[i]==[1.]:#前\n",
    "                            col='red'\n",
    "                            mark = 'o'\n",
    "                            l = 'front'\n",
    "\n",
    "                        elif y[i]==[0.]:#後ろ\n",
    "                            col='blue'\n",
    "                            mark = '^'\n",
    "                            l = 'back'\n",
    "\n",
    "                        elif y[i]==[2.]:#右\n",
    "                            col='orange'\n",
    "                            mark = '*'\n",
    "                            l = 'right'\n",
    "\n",
    "                        elif y[i]==[3.]:#左\n",
    "                            col='green'\n",
    "                            mark = 's'\n",
    "                            l = 'left'\n",
    "\n",
    "                        else :#後ろ\n",
    "                            col='black'\n",
    "                            mark = 'x'\n",
    "                            l = 'back'\n",
    "\n",
    "                    scale = 3 * df2['bmu'].value_counts() #+ 5\n",
    "                    plot_som = ax.scatter(bmu[0],bmu[1],color = col, marker=mark, s=scale, alpha = 1.0)\n",
    "\n",
    "                plt.xlim(0-1,N+1)\n",
    "                plt.ylim(0-1,N+1)\n",
    "                #plt.legend()\n",
    "                plt.savefig(os.path.join(new_dir_path, f'Random'+str(length)+'Sequent'+str(sensor_epoch)+'('+datetime.now().strftime(\"%Y_%m_%d_%H_%M\")+')'+'.png'), dpi = 400, bbox_inches = 'tight')\n",
    "                plt.show()\n",
    "#    for i in range(n_teacher):\n",
    "        \n",
    "#        if y[i] == df2['classnum'].any:\n",
    "#            col = 'black'\n",
    "#            mark = 'x'\n",
    "#            scale = 10\n",
    "#            ax.scatter(bmu[0],bmu[1],color = col, marker=mark, s=scale)\n",
    "            \n",
    "    plt.xlim(0-1,N+1)\n",
    "    plt.ylim(0-1,N+1)\n",
    "    #plt.legend()\n",
    "    plt.savefig(os.path.join(new_dir_path, f'Random'+str(length)+'Sequent'+str(sensor_epoch)+'('+datetime.now().strftime(\"%Y_%m_%d_%H_%M\")+')'+'.png'), dpi = 400, bbox_inches = 'tight')\n",
    "    plt.show()\n",
    "    \n",
    "    \n",
    "#学習   \n",
    "def train(nodes, teachers):\n",
    "    \n",
    "    bmu = best_matching_unit(nodes, teachers)#BMU:データに対し最も似ているベクトルを持つユニットあとで定義\n",
    "\n",
    "    for x in range(N):\n",
    "        for y in range(N):\n",
    "            c = np.array([x,y])\n",
    "            d = np.linalg.norm(c - bmu)#ユニットの位置とBMUとの距離\n",
    "            L = learning_ratio(i)#学習時間を決定するパラメータ#iはe^(-t/λ)\n",
    "            S = learning_radius(i, d)#更新するユニットがどの程度BMUの近傍にいるのかを表現\n",
    "            for z in range(dimension):\n",
    "                nodes[x, y, z] += L * S * (teachers[z] - nodes[x, y, z])#zはがくの長さなど\n",
    "\n",
    "                \n",
    "def best_matching_unit(nodes, teacher):\n",
    "    norms = np.zeros((N,N))# N×Nの２次元配列を生成\n",
    "    for x in range (N):\n",
    "        for y in range(N):\n",
    "            for z in range(dimension):\n",
    "                norms[x, y] += (nodes[x,y,z] - teacher[z])**2\n",
    "    \n",
    "    bmu_1 = np.argmin(norms)#１次元配列で考えたとき何番目かを返す\n",
    "    bmu = np.unravel_index(bmu_1,(N,N))#argminと組み合わせることで,もとの行列の何行何列目に最小値があるのかわかる\n",
    "\n",
    "    return bmu \n",
    "\n",
    "def neighbourhood(t):\n",
    "    halflife = float(n_teacher/4)#時定数\n",
    "    initial = float(N/4)\n",
    "    return initial*np.exp(-t/halflife)\n",
    "\n",
    "def learning_ratio(t):\n",
    "    halflife=float(n_teacher/4)#時定数\n",
    "    initial=0.1#Lの初期値\n",
    "    return initial*np.exp(-t/halflife)\n",
    "\n",
    "def learning_radius(t, d):\n",
    "    s=neighbourhood(t)\n",
    "    return np.exp(-d**2/(2*s**2))\n",
    "\n",
    "main()"
   ]
  },
  {
   "cell_type": "code",
   "execution_count": null,
   "metadata": {},
   "outputs": [],
   "source": []
  }
 ],
 "metadata": {
  "kernelspec": {
   "display_name": "Python 3",
   "language": "python",
   "name": "python3"
  },
  "language_info": {
   "codemirror_mode": {
    "name": "ipython",
    "version": 3
   },
   "file_extension": ".py",
   "mimetype": "text/x-python",
   "name": "python",
   "nbconvert_exporter": "python",
   "pygments_lexer": "ipython3",
   "version": "3.7.3"
  }
 },
 "nbformat": 4,
 "nbformat_minor": 2
}
