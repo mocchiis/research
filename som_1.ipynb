npとしてnumpyをインポート
＃グラフを書くときはmatplotlibライブラリのpyplotが必要
#Jupyterでインライン表示するための宣言
％matplotlibインライン 


class SOM（）：＃SOMという名前のクラスを創る
   
    #classの内部はすべてdefで定義する
    ＃第一引数に「self」が指定する＝コンストラクタ
    def __init __（自己、先生、N、seed =なし）：
        ＃インスタント変数teachersを初期化したことになる
        #selfのなかにに先生を持ってnumpyの配列arrayに定義
        self.teachers = np.array（教師）
        self.n_teacher = self.teachers.shape [0]＃.shape：行列の大きさ。.shape[0]：行列の行数。.shape[1]：行列の列数
        self.N = N
        そうでない場合、seedはNoneです。
            np.random.seed（seed）＃乱数の固定
            
        x、y = np.meshgrid（range（self.N）、range（self.N））＃各座標の要素列から格子座標を作成するために使う
        ＃ユニットの位置＃400 * 2の行列
        self.c = np.hstack（（x.flatten（）[：、np.newaxis]、
                            y.flatten（）[:, np.newaxis]））#hstack：横（hstack）に連結。x.flattenとy.flattenをくっつける 
        ＃ユニットの更新
        self.nodes = np.random.rand（self.N * self.N、
                                    self.teachers.shape [1]）＃random.rand：乱数の自動生成＃self.teachersの列数
    
    def train（self）：
        私のために、列挙の教師（self.teachers）：#teacherは入力ベクトル
            bmu = self._best_matching_unit（teacher）#BMU：データに対して最も似ているベクトルを持つユニットあとで定義
            d = np.linalg.norm（self.c  -  bmu、axis = 1）＃ユニットの位置とBMUとの距離
            L = self._learning_ratio（i）＃学習時間を決定するパラメータ#iはe ^（ -  t /λ）
            S = self._learning_radius（i、d）＃更新するユニットがどこの程度BMUの近傍にあるのかを表現
            
            ＃ユニットの更新
            self.nodes + = L * S [：、np.newaxis] *（教師 -  self.nodes）
        self.nodesを返す
    
    #BMUの定義
    def _best_matching_unit（自己、先生）：
        ＃すべてのノルムを計算する（正方形）
        norms = np.linalg.norm（self.nodes  - 教師、軸= 1）
        bmu = np.argmin（norms）＃最小要素を含むセグメント 
        return np.unravel_index（bmu、（self.N、self.N））＃ユニットの場所2次元
    
    #BMUの近傍を定義（_learning_radius（S）に使う）
    def _neighbourhood（self、t）：＃ラジアス近所
        halflife = float（self.n_teacher / 4）＃テスト用＃時定数
        イニシャル=フロート（self.N / 4） 
        初期値を返す* np.exp（-t / halflife）
    
    #L
    def _learning_ratio（self、t）：＃レシオ：レシオ
        halflife = float（self.n_teacher / 4）＃テスト用＃時定数
        initial = 0.1 #Lの初期値
        初期値を返す* np.exp（-t / halflife）
    
    #S
    def _learning_radius（self、t、d）：＃半径：半径
        ＃dはBMUからの距離です
        s = self._neighbourhood（t）
        np.expを返す（-d ** 2 /（2 * s ** 2））       
        
N = 20＃ユニットの行列
teachers = np.random.rand（1000、3）＃（学習回数、次元）
som = SOM（teachers、N、seed = 30）＃乱数の初期条件

＃初期マップ#S初期のSOM
plt.imshow（som.nodes.reshape（（N、N、3））、
           interpolation = 'none'）＃interpolation：変更、挿入
plt.show（）

＃Train #SOM（）内で定義したtrain関数を呼び出します
som.train（）

＃訓練を受けたMAP
plt.imshow（som.nodes.reshape（（N、N、3））、
           補間= 'なし'）
plt.show（）
